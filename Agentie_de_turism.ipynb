{
 "cells": [
  {
   "cell_type": "markdown",
   "metadata": {},
   "source": [
    "\n",
    "<br><h1><center>Agentie de turism</center></h1>\n"
   ]
  },
  {
   "cell_type": "markdown",
   "metadata": {},
   "source": [
    "<div style=\"text-align: right\">\n",
    "        $\\color{Green}{\\text{Aldea Alexandru George}}$                                                                                  <br>$\\color{Green}{\\text{ Nedelcu Arabela}}$ \n",
    "</div>                                                                                                        "
   ]
  },
  {
   "cell_type": "markdown",
   "metadata": {},
   "source": [
    "O agenție de turism care vrea să se extindă într-o altă piață are în actuala piață 7 tipuri de pachete de vacanță. Agenția dorește să analizeze datele actualilor clienți, care deja au achiziționat unul dintre pachete, pentru a identifica ce pachet merită sau nu să fie introduse în noua piață."
   ]
  },
  {
   "cell_type": "markdown",
   "metadata": {},
   "source": [
    "Pentru analiză sunt disponibile urmatoarele informații despre actialii clienți: genul, starea socială, vârsta, dacă are studii superioare sau nu, profesia, vechimea în muncă, cât este de cheltuitor, numarul de membri ai familiei. De asemenea, actualii clienți sunt categorisiți în 4 tipuri în funcție de numărul de pachete de vacanță achizitionate până acum de la agenție."
   ]
  },
  {
   "cell_type": "markdown",
   "metadata": {},
   "source": [
    "Se dorește o analiză a detaliilor sociale ale actualilor clienți cu scopul de a prezice fidelitatea acestora (încadrarea în una dintre cele 4 categorii), metoda ce ar putea fi folosită și în noua piață."
   ]
  },
  {
   "cell_type": "markdown",
   "metadata": {},
   "source": [
    "Mai mult, noii potențiali clienți au fost rugați să raspundă la un chestionar, în care au fost întrebați ce pachet de vacanță ar alege din lista actuală, pentru ca agenția să își poată da seama dacă comportamentul actualilor clienți este asemanator cu cel al potențialilor noi clienți."
   ]
  },
  {
   "cell_type": "markdown",
   "metadata": {},
   "source": [
    "## Procesarea datelor, curățarea, transformarea acestora utilizand Dataframes și Spark SQL"
   ]
  },
  {
   "cell_type": "code",
   "execution_count": 1,
   "metadata": {},
   "outputs": [],
   "source": [
    "import pandas as pd"
   ]
  },
  {
   "cell_type": "markdown",
   "metadata": {},
   "source": [
    "Importam fisierul ce contine datele despre actualii clienti si analizam structura tabelului. Importam si fisierul ce contine datele de test"
   ]
  },
  {
   "cell_type": "code",
   "execution_count": 2,
   "metadata": {},
   "outputs": [
    {
     "data": {
      "text/html": [
       "<div>\n",
       "<style scoped>\n",
       "    .dataframe tbody tr th:only-of-type {\n",
       "        vertical-align: middle;\n",
       "    }\n",
       "\n",
       "    .dataframe tbody tr th {\n",
       "        vertical-align: top;\n",
       "    }\n",
       "\n",
       "    .dataframe thead th {\n",
       "        text-align: right;\n",
       "    }\n",
       "</style>\n",
       "<table border=\"1\" class=\"dataframe\">\n",
       "  <thead>\n",
       "    <tr style=\"text-align: right;\">\n",
       "      <th></th>\n",
       "      <th>ID</th>\n",
       "      <th>Gender</th>\n",
       "      <th>Married</th>\n",
       "      <th>Age</th>\n",
       "      <th>Graduated</th>\n",
       "      <th>Profession</th>\n",
       "      <th>Work_Experience</th>\n",
       "      <th>Spending_Score</th>\n",
       "      <th>Family_Size</th>\n",
       "      <th>Category</th>\n",
       "      <th>Package</th>\n",
       "    </tr>\n",
       "  </thead>\n",
       "  <tbody>\n",
       "    <tr>\n",
       "      <th>0</th>\n",
       "      <td>462809</td>\n",
       "      <td>Male</td>\n",
       "      <td>No</td>\n",
       "      <td>22</td>\n",
       "      <td>No</td>\n",
       "      <td>Healthcare</td>\n",
       "      <td>1.0</td>\n",
       "      <td>Low</td>\n",
       "      <td>4.0</td>\n",
       "      <td>D</td>\n",
       "      <td>4.0</td>\n",
       "    </tr>\n",
       "    <tr>\n",
       "      <th>1</th>\n",
       "      <td>462643</td>\n",
       "      <td>Female</td>\n",
       "      <td>Yes</td>\n",
       "      <td>38</td>\n",
       "      <td>Yes</td>\n",
       "      <td>Engineer</td>\n",
       "      <td>NaN</td>\n",
       "      <td>Average</td>\n",
       "      <td>3.0</td>\n",
       "      <td>A</td>\n",
       "      <td>4.0</td>\n",
       "    </tr>\n",
       "    <tr>\n",
       "      <th>2</th>\n",
       "      <td>466315</td>\n",
       "      <td>Female</td>\n",
       "      <td>Yes</td>\n",
       "      <td>67</td>\n",
       "      <td>Yes</td>\n",
       "      <td>Engineer</td>\n",
       "      <td>1.0</td>\n",
       "      <td>Low</td>\n",
       "      <td>1.0</td>\n",
       "      <td>B</td>\n",
       "      <td>6.0</td>\n",
       "    </tr>\n",
       "    <tr>\n",
       "      <th>3</th>\n",
       "      <td>461735</td>\n",
       "      <td>Male</td>\n",
       "      <td>Yes</td>\n",
       "      <td>67</td>\n",
       "      <td>Yes</td>\n",
       "      <td>Lawyer</td>\n",
       "      <td>0.0</td>\n",
       "      <td>High</td>\n",
       "      <td>2.0</td>\n",
       "      <td>B</td>\n",
       "      <td>6.0</td>\n",
       "    </tr>\n",
       "    <tr>\n",
       "      <th>4</th>\n",
       "      <td>462669</td>\n",
       "      <td>Female</td>\n",
       "      <td>Yes</td>\n",
       "      <td>40</td>\n",
       "      <td>Yes</td>\n",
       "      <td>Entertainment</td>\n",
       "      <td>NaN</td>\n",
       "      <td>High</td>\n",
       "      <td>6.0</td>\n",
       "      <td>A</td>\n",
       "      <td>6.0</td>\n",
       "    </tr>\n",
       "    <tr>\n",
       "      <th>...</th>\n",
       "      <td>...</td>\n",
       "      <td>...</td>\n",
       "      <td>...</td>\n",
       "      <td>...</td>\n",
       "      <td>...</td>\n",
       "      <td>...</td>\n",
       "      <td>...</td>\n",
       "      <td>...</td>\n",
       "      <td>...</td>\n",
       "      <td>...</td>\n",
       "      <td>...</td>\n",
       "    </tr>\n",
       "    <tr>\n",
       "      <th>8063</th>\n",
       "      <td>464018</td>\n",
       "      <td>Male</td>\n",
       "      <td>No</td>\n",
       "      <td>22</td>\n",
       "      <td>No</td>\n",
       "      <td>NaN</td>\n",
       "      <td>0.0</td>\n",
       "      <td>Low</td>\n",
       "      <td>7.0</td>\n",
       "      <td>D</td>\n",
       "      <td>1.0</td>\n",
       "    </tr>\n",
       "    <tr>\n",
       "      <th>8064</th>\n",
       "      <td>464685</td>\n",
       "      <td>Male</td>\n",
       "      <td>No</td>\n",
       "      <td>35</td>\n",
       "      <td>No</td>\n",
       "      <td>Executive</td>\n",
       "      <td>3.0</td>\n",
       "      <td>Low</td>\n",
       "      <td>4.0</td>\n",
       "      <td>D</td>\n",
       "      <td>4.0</td>\n",
       "    </tr>\n",
       "    <tr>\n",
       "      <th>8065</th>\n",
       "      <td>465406</td>\n",
       "      <td>Female</td>\n",
       "      <td>No</td>\n",
       "      <td>33</td>\n",
       "      <td>Yes</td>\n",
       "      <td>Healthcare</td>\n",
       "      <td>1.0</td>\n",
       "      <td>Low</td>\n",
       "      <td>1.0</td>\n",
       "      <td>D</td>\n",
       "      <td>6.0</td>\n",
       "    </tr>\n",
       "    <tr>\n",
       "      <th>8066</th>\n",
       "      <td>467299</td>\n",
       "      <td>Female</td>\n",
       "      <td>No</td>\n",
       "      <td>27</td>\n",
       "      <td>Yes</td>\n",
       "      <td>Healthcare</td>\n",
       "      <td>1.0</td>\n",
       "      <td>Low</td>\n",
       "      <td>4.0</td>\n",
       "      <td>B</td>\n",
       "      <td>6.0</td>\n",
       "    </tr>\n",
       "    <tr>\n",
       "      <th>8067</th>\n",
       "      <td>461879</td>\n",
       "      <td>Male</td>\n",
       "      <td>Yes</td>\n",
       "      <td>37</td>\n",
       "      <td>Yes</td>\n",
       "      <td>Executive</td>\n",
       "      <td>0.0</td>\n",
       "      <td>Average</td>\n",
       "      <td>3.0</td>\n",
       "      <td>B</td>\n",
       "      <td>4.0</td>\n",
       "    </tr>\n",
       "  </tbody>\n",
       "</table>\n",
       "<p>8068 rows × 11 columns</p>\n",
       "</div>"
      ],
      "text/plain": [
       "          ID  Gender Married  Age Graduated     Profession  Work_Experience  \\\n",
       "0     462809    Male      No   22        No     Healthcare              1.0   \n",
       "1     462643  Female     Yes   38       Yes       Engineer              NaN   \n",
       "2     466315  Female     Yes   67       Yes       Engineer              1.0   \n",
       "3     461735    Male     Yes   67       Yes         Lawyer              0.0   \n",
       "4     462669  Female     Yes   40       Yes  Entertainment              NaN   \n",
       "...      ...     ...     ...  ...       ...            ...              ...   \n",
       "8063  464018    Male      No   22        No            NaN              0.0   \n",
       "8064  464685    Male      No   35        No      Executive              3.0   \n",
       "8065  465406  Female      No   33       Yes     Healthcare              1.0   \n",
       "8066  467299  Female      No   27       Yes     Healthcare              1.0   \n",
       "8067  461879    Male     Yes   37       Yes      Executive              0.0   \n",
       "\n",
       "     Spending_Score  Family_Size Category  Package  \n",
       "0               Low          4.0        D      4.0  \n",
       "1           Average          3.0        A      4.0  \n",
       "2               Low          1.0        B      6.0  \n",
       "3              High          2.0        B      6.0  \n",
       "4              High          6.0        A      6.0  \n",
       "...             ...          ...      ...      ...  \n",
       "8063            Low          7.0        D      1.0  \n",
       "8064            Low          4.0        D      4.0  \n",
       "8065            Low          1.0        D      6.0  \n",
       "8066            Low          4.0        B      6.0  \n",
       "8067        Average          3.0        B      4.0  \n",
       "\n",
       "[8068 rows x 11 columns]"
      ]
     },
     "execution_count": 2,
     "metadata": {},
     "output_type": "execute_result"
    }
   ],
   "source": [
    "data = pd.read_csv('Train.csv')\n",
    "test = pd.read_csv('Test.csv')\n",
    "data"
   ]
  },
  {
   "cell_type": "markdown",
   "metadata": {},
   "source": [
    "Afisam schema si analizam statisticile descriptive ale setului de date"
   ]
  },
  {
   "cell_type": "code",
   "execution_count": 3,
   "metadata": {
    "scrolled": true
   },
   "outputs": [
    {
     "name": "stdout",
     "output_type": "stream",
     "text": [
      "<class 'pandas.core.frame.DataFrame'>\n",
      "RangeIndex: 8068 entries, 0 to 8067\n",
      "Data columns (total 11 columns):\n",
      " #   Column           Non-Null Count  Dtype  \n",
      "---  ------           --------------  -----  \n",
      " 0   ID               8068 non-null   int64  \n",
      " 1   Gender           8068 non-null   object \n",
      " 2   Married          7928 non-null   object \n",
      " 3   Age              8068 non-null   int64  \n",
      " 4   Graduated        7990 non-null   object \n",
      " 5   Profession       7944 non-null   object \n",
      " 6   Work_Experience  7239 non-null   float64\n",
      " 7   Spending_Score   8068 non-null   object \n",
      " 8   Family_Size      7733 non-null   float64\n",
      " 9   Category         8068 non-null   object \n",
      " 10  Package          7992 non-null   float64\n",
      "dtypes: float64(3), int64(2), object(6)\n",
      "memory usage: 693.5+ KB\n",
      "<class 'pandas.core.frame.DataFrame'>\n",
      "RangeIndex: 2627 entries, 0 to 2626\n",
      "Data columns (total 10 columns):\n",
      " #   Column           Non-Null Count  Dtype  \n",
      "---  ------           --------------  -----  \n",
      " 0   ID               2627 non-null   int64  \n",
      " 1   Gender           2627 non-null   object \n",
      " 2   Married          2577 non-null   object \n",
      " 3   Age              2627 non-null   int64  \n",
      " 4   Graduated        2603 non-null   object \n",
      " 5   Profession       2589 non-null   object \n",
      " 6   Work_Experience  2358 non-null   float64\n",
      " 7   Spending_Score   2627 non-null   object \n",
      " 8   Family_Size      2514 non-null   float64\n",
      " 9   Package          2595 non-null   float64\n",
      "dtypes: float64(3), int64(2), object(5)\n",
      "memory usage: 205.4+ KB\n"
     ]
    }
   ],
   "source": [
    "data.info()\n",
    "test.info()"
   ]
  },
  {
   "cell_type": "code",
   "execution_count": 4,
   "metadata": {},
   "outputs": [
    {
     "data": {
      "text/html": [
       "<div>\n",
       "<style scoped>\n",
       "    .dataframe tbody tr th:only-of-type {\n",
       "        vertical-align: middle;\n",
       "    }\n",
       "\n",
       "    .dataframe tbody tr th {\n",
       "        vertical-align: top;\n",
       "    }\n",
       "\n",
       "    .dataframe thead th {\n",
       "        text-align: right;\n",
       "    }\n",
       "</style>\n",
       "<table border=\"1\" class=\"dataframe\">\n",
       "  <thead>\n",
       "    <tr style=\"text-align: right;\">\n",
       "      <th></th>\n",
       "      <th>ID</th>\n",
       "      <th>Gender</th>\n",
       "      <th>Married</th>\n",
       "      <th>Age</th>\n",
       "      <th>Graduated</th>\n",
       "      <th>Profession</th>\n",
       "      <th>Work_Experience</th>\n",
       "      <th>Spending_Score</th>\n",
       "      <th>Family_Size</th>\n",
       "      <th>Category</th>\n",
       "      <th>Package</th>\n",
       "    </tr>\n",
       "  </thead>\n",
       "  <tbody>\n",
       "    <tr>\n",
       "      <th>count</th>\n",
       "      <td>8068.000000</td>\n",
       "      <td>8068</td>\n",
       "      <td>7928</td>\n",
       "      <td>8068.000000</td>\n",
       "      <td>7990</td>\n",
       "      <td>7944</td>\n",
       "      <td>7239.000000</td>\n",
       "      <td>8068</td>\n",
       "      <td>7733.000000</td>\n",
       "      <td>8068</td>\n",
       "      <td>7992.000000</td>\n",
       "    </tr>\n",
       "    <tr>\n",
       "      <th>unique</th>\n",
       "      <td>NaN</td>\n",
       "      <td>2</td>\n",
       "      <td>2</td>\n",
       "      <td>NaN</td>\n",
       "      <td>2</td>\n",
       "      <td>9</td>\n",
       "      <td>NaN</td>\n",
       "      <td>3</td>\n",
       "      <td>NaN</td>\n",
       "      <td>4</td>\n",
       "      <td>NaN</td>\n",
       "    </tr>\n",
       "    <tr>\n",
       "      <th>top</th>\n",
       "      <td>NaN</td>\n",
       "      <td>Male</td>\n",
       "      <td>Yes</td>\n",
       "      <td>NaN</td>\n",
       "      <td>Yes</td>\n",
       "      <td>Artist</td>\n",
       "      <td>NaN</td>\n",
       "      <td>Low</td>\n",
       "      <td>NaN</td>\n",
       "      <td>D</td>\n",
       "      <td>NaN</td>\n",
       "    </tr>\n",
       "    <tr>\n",
       "      <th>freq</th>\n",
       "      <td>NaN</td>\n",
       "      <td>4417</td>\n",
       "      <td>4643</td>\n",
       "      <td>NaN</td>\n",
       "      <td>4968</td>\n",
       "      <td>2516</td>\n",
       "      <td>NaN</td>\n",
       "      <td>4878</td>\n",
       "      <td>NaN</td>\n",
       "      <td>2268</td>\n",
       "      <td>NaN</td>\n",
       "    </tr>\n",
       "    <tr>\n",
       "      <th>mean</th>\n",
       "      <td>463479.214551</td>\n",
       "      <td>NaN</td>\n",
       "      <td>NaN</td>\n",
       "      <td>43.466906</td>\n",
       "      <td>NaN</td>\n",
       "      <td>NaN</td>\n",
       "      <td>2.641663</td>\n",
       "      <td>NaN</td>\n",
       "      <td>2.850123</td>\n",
       "      <td>NaN</td>\n",
       "      <td>5.139264</td>\n",
       "    </tr>\n",
       "    <tr>\n",
       "      <th>std</th>\n",
       "      <td>2595.381232</td>\n",
       "      <td>NaN</td>\n",
       "      <td>NaN</td>\n",
       "      <td>16.711696</td>\n",
       "      <td>NaN</td>\n",
       "      <td>NaN</td>\n",
       "      <td>3.406763</td>\n",
       "      <td>NaN</td>\n",
       "      <td>1.531413</td>\n",
       "      <td>NaN</td>\n",
       "      <td>1.423738</td>\n",
       "    </tr>\n",
       "    <tr>\n",
       "      <th>min</th>\n",
       "      <td>458982.000000</td>\n",
       "      <td>NaN</td>\n",
       "      <td>NaN</td>\n",
       "      <td>18.000000</td>\n",
       "      <td>NaN</td>\n",
       "      <td>NaN</td>\n",
       "      <td>0.000000</td>\n",
       "      <td>NaN</td>\n",
       "      <td>1.000000</td>\n",
       "      <td>NaN</td>\n",
       "      <td>1.000000</td>\n",
       "    </tr>\n",
       "    <tr>\n",
       "      <th>25%</th>\n",
       "      <td>461240.750000</td>\n",
       "      <td>NaN</td>\n",
       "      <td>NaN</td>\n",
       "      <td>30.000000</td>\n",
       "      <td>NaN</td>\n",
       "      <td>NaN</td>\n",
       "      <td>0.000000</td>\n",
       "      <td>NaN</td>\n",
       "      <td>2.000000</td>\n",
       "      <td>NaN</td>\n",
       "      <td>4.000000</td>\n",
       "    </tr>\n",
       "    <tr>\n",
       "      <th>50%</th>\n",
       "      <td>463472.500000</td>\n",
       "      <td>NaN</td>\n",
       "      <td>NaN</td>\n",
       "      <td>40.000000</td>\n",
       "      <td>NaN</td>\n",
       "      <td>NaN</td>\n",
       "      <td>1.000000</td>\n",
       "      <td>NaN</td>\n",
       "      <td>3.000000</td>\n",
       "      <td>NaN</td>\n",
       "      <td>6.000000</td>\n",
       "    </tr>\n",
       "    <tr>\n",
       "      <th>75%</th>\n",
       "      <td>465744.250000</td>\n",
       "      <td>NaN</td>\n",
       "      <td>NaN</td>\n",
       "      <td>53.000000</td>\n",
       "      <td>NaN</td>\n",
       "      <td>NaN</td>\n",
       "      <td>4.000000</td>\n",
       "      <td>NaN</td>\n",
       "      <td>4.000000</td>\n",
       "      <td>NaN</td>\n",
       "      <td>6.000000</td>\n",
       "    </tr>\n",
       "    <tr>\n",
       "      <th>max</th>\n",
       "      <td>467974.000000</td>\n",
       "      <td>NaN</td>\n",
       "      <td>NaN</td>\n",
       "      <td>89.000000</td>\n",
       "      <td>NaN</td>\n",
       "      <td>NaN</td>\n",
       "      <td>14.000000</td>\n",
       "      <td>NaN</td>\n",
       "      <td>9.000000</td>\n",
       "      <td>NaN</td>\n",
       "      <td>7.000000</td>\n",
       "    </tr>\n",
       "  </tbody>\n",
       "</table>\n",
       "</div>"
      ],
      "text/plain": [
       "                   ID Gender Married          Age Graduated Profession  \\\n",
       "count     8068.000000   8068    7928  8068.000000      7990       7944   \n",
       "unique            NaN      2       2          NaN         2          9   \n",
       "top               NaN   Male     Yes          NaN       Yes     Artist   \n",
       "freq              NaN   4417    4643          NaN      4968       2516   \n",
       "mean    463479.214551    NaN     NaN    43.466906       NaN        NaN   \n",
       "std       2595.381232    NaN     NaN    16.711696       NaN        NaN   \n",
       "min     458982.000000    NaN     NaN    18.000000       NaN        NaN   \n",
       "25%     461240.750000    NaN     NaN    30.000000       NaN        NaN   \n",
       "50%     463472.500000    NaN     NaN    40.000000       NaN        NaN   \n",
       "75%     465744.250000    NaN     NaN    53.000000       NaN        NaN   \n",
       "max     467974.000000    NaN     NaN    89.000000       NaN        NaN   \n",
       "\n",
       "        Work_Experience Spending_Score  Family_Size Category      Package  \n",
       "count       7239.000000           8068  7733.000000     8068  7992.000000  \n",
       "unique              NaN              3          NaN        4          NaN  \n",
       "top                 NaN            Low          NaN        D          NaN  \n",
       "freq                NaN           4878          NaN     2268          NaN  \n",
       "mean           2.641663            NaN     2.850123      NaN     5.139264  \n",
       "std            3.406763            NaN     1.531413      NaN     1.423738  \n",
       "min            0.000000            NaN     1.000000      NaN     1.000000  \n",
       "25%            0.000000            NaN     2.000000      NaN     4.000000  \n",
       "50%            1.000000            NaN     3.000000      NaN     6.000000  \n",
       "75%            4.000000            NaN     4.000000      NaN     6.000000  \n",
       "max           14.000000            NaN     9.000000      NaN     7.000000  "
      ]
     },
     "execution_count": 4,
     "metadata": {},
     "output_type": "execute_result"
    }
   ],
   "source": [
    "data.describe(include='all')"
   ]
  },
  {
   "cell_type": "code",
   "execution_count": 5,
   "metadata": {
    "scrolled": true
   },
   "outputs": [
    {
     "data": {
      "text/html": [
       "<div>\n",
       "<style scoped>\n",
       "    .dataframe tbody tr th:only-of-type {\n",
       "        vertical-align: middle;\n",
       "    }\n",
       "\n",
       "    .dataframe tbody tr th {\n",
       "        vertical-align: top;\n",
       "    }\n",
       "\n",
       "    .dataframe thead th {\n",
       "        text-align: right;\n",
       "    }\n",
       "</style>\n",
       "<table border=\"1\" class=\"dataframe\">\n",
       "  <thead>\n",
       "    <tr style=\"text-align: right;\">\n",
       "      <th></th>\n",
       "      <th>ID</th>\n",
       "      <th>Gender</th>\n",
       "      <th>Married</th>\n",
       "      <th>Age</th>\n",
       "      <th>Graduated</th>\n",
       "      <th>Profession</th>\n",
       "      <th>Work_Experience</th>\n",
       "      <th>Spending_Score</th>\n",
       "      <th>Family_Size</th>\n",
       "      <th>Package</th>\n",
       "    </tr>\n",
       "  </thead>\n",
       "  <tbody>\n",
       "    <tr>\n",
       "      <th>count</th>\n",
       "      <td>2627.000000</td>\n",
       "      <td>2627</td>\n",
       "      <td>2577</td>\n",
       "      <td>2627.000000</td>\n",
       "      <td>2603</td>\n",
       "      <td>2589</td>\n",
       "      <td>2358.000000</td>\n",
       "      <td>2627</td>\n",
       "      <td>2514.000000</td>\n",
       "      <td>2595.000000</td>\n",
       "    </tr>\n",
       "    <tr>\n",
       "      <th>unique</th>\n",
       "      <td>NaN</td>\n",
       "      <td>2</td>\n",
       "      <td>2</td>\n",
       "      <td>NaN</td>\n",
       "      <td>2</td>\n",
       "      <td>9</td>\n",
       "      <td>NaN</td>\n",
       "      <td>3</td>\n",
       "      <td>NaN</td>\n",
       "      <td>NaN</td>\n",
       "    </tr>\n",
       "    <tr>\n",
       "      <th>top</th>\n",
       "      <td>NaN</td>\n",
       "      <td>Male</td>\n",
       "      <td>Yes</td>\n",
       "      <td>NaN</td>\n",
       "      <td>Yes</td>\n",
       "      <td>Artist</td>\n",
       "      <td>NaN</td>\n",
       "      <td>Low</td>\n",
       "      <td>NaN</td>\n",
       "      <td>NaN</td>\n",
       "    </tr>\n",
       "    <tr>\n",
       "      <th>freq</th>\n",
       "      <td>NaN</td>\n",
       "      <td>1424</td>\n",
       "      <td>1520</td>\n",
       "      <td>NaN</td>\n",
       "      <td>1602</td>\n",
       "      <td>802</td>\n",
       "      <td>NaN</td>\n",
       "      <td>1616</td>\n",
       "      <td>NaN</td>\n",
       "      <td>NaN</td>\n",
       "    </tr>\n",
       "    <tr>\n",
       "      <th>mean</th>\n",
       "      <td>463433.918919</td>\n",
       "      <td>NaN</td>\n",
       "      <td>NaN</td>\n",
       "      <td>43.649791</td>\n",
       "      <td>NaN</td>\n",
       "      <td>NaN</td>\n",
       "      <td>2.552587</td>\n",
       "      <td>NaN</td>\n",
       "      <td>2.825378</td>\n",
       "      <td>5.125241</td>\n",
       "    </tr>\n",
       "    <tr>\n",
       "      <th>std</th>\n",
       "      <td>2618.245698</td>\n",
       "      <td>NaN</td>\n",
       "      <td>NaN</td>\n",
       "      <td>16.967015</td>\n",
       "      <td>NaN</td>\n",
       "      <td>NaN</td>\n",
       "      <td>3.341094</td>\n",
       "      <td>NaN</td>\n",
       "      <td>1.551906</td>\n",
       "      <td>1.410706</td>\n",
       "    </tr>\n",
       "    <tr>\n",
       "      <th>min</th>\n",
       "      <td>458989.000000</td>\n",
       "      <td>NaN</td>\n",
       "      <td>NaN</td>\n",
       "      <td>18.000000</td>\n",
       "      <td>NaN</td>\n",
       "      <td>NaN</td>\n",
       "      <td>0.000000</td>\n",
       "      <td>NaN</td>\n",
       "      <td>1.000000</td>\n",
       "      <td>1.000000</td>\n",
       "    </tr>\n",
       "    <tr>\n",
       "      <th>25%</th>\n",
       "      <td>461162.500000</td>\n",
       "      <td>NaN</td>\n",
       "      <td>NaN</td>\n",
       "      <td>30.000000</td>\n",
       "      <td>NaN</td>\n",
       "      <td>NaN</td>\n",
       "      <td>0.000000</td>\n",
       "      <td>NaN</td>\n",
       "      <td>2.000000</td>\n",
       "      <td>4.000000</td>\n",
       "    </tr>\n",
       "    <tr>\n",
       "      <th>50%</th>\n",
       "      <td>463379.000000</td>\n",
       "      <td>NaN</td>\n",
       "      <td>NaN</td>\n",
       "      <td>41.000000</td>\n",
       "      <td>NaN</td>\n",
       "      <td>NaN</td>\n",
       "      <td>1.000000</td>\n",
       "      <td>NaN</td>\n",
       "      <td>2.000000</td>\n",
       "      <td>6.000000</td>\n",
       "    </tr>\n",
       "    <tr>\n",
       "      <th>75%</th>\n",
       "      <td>465696.000000</td>\n",
       "      <td>NaN</td>\n",
       "      <td>NaN</td>\n",
       "      <td>53.000000</td>\n",
       "      <td>NaN</td>\n",
       "      <td>NaN</td>\n",
       "      <td>4.000000</td>\n",
       "      <td>NaN</td>\n",
       "      <td>4.000000</td>\n",
       "      <td>6.000000</td>\n",
       "    </tr>\n",
       "    <tr>\n",
       "      <th>max</th>\n",
       "      <td>467968.000000</td>\n",
       "      <td>NaN</td>\n",
       "      <td>NaN</td>\n",
       "      <td>89.000000</td>\n",
       "      <td>NaN</td>\n",
       "      <td>NaN</td>\n",
       "      <td>14.000000</td>\n",
       "      <td>NaN</td>\n",
       "      <td>9.000000</td>\n",
       "      <td>7.000000</td>\n",
       "    </tr>\n",
       "  </tbody>\n",
       "</table>\n",
       "</div>"
      ],
      "text/plain": [
       "                   ID Gender Married          Age Graduated Profession  \\\n",
       "count     2627.000000   2627    2577  2627.000000      2603       2589   \n",
       "unique            NaN      2       2          NaN         2          9   \n",
       "top               NaN   Male     Yes          NaN       Yes     Artist   \n",
       "freq              NaN   1424    1520          NaN      1602        802   \n",
       "mean    463433.918919    NaN     NaN    43.649791       NaN        NaN   \n",
       "std       2618.245698    NaN     NaN    16.967015       NaN        NaN   \n",
       "min     458989.000000    NaN     NaN    18.000000       NaN        NaN   \n",
       "25%     461162.500000    NaN     NaN    30.000000       NaN        NaN   \n",
       "50%     463379.000000    NaN     NaN    41.000000       NaN        NaN   \n",
       "75%     465696.000000    NaN     NaN    53.000000       NaN        NaN   \n",
       "max     467968.000000    NaN     NaN    89.000000       NaN        NaN   \n",
       "\n",
       "        Work_Experience Spending_Score  Family_Size      Package  \n",
       "count       2358.000000           2627  2514.000000  2595.000000  \n",
       "unique              NaN              3          NaN          NaN  \n",
       "top                 NaN            Low          NaN          NaN  \n",
       "freq                NaN           1616          NaN          NaN  \n",
       "mean           2.552587            NaN     2.825378     5.125241  \n",
       "std            3.341094            NaN     1.551906     1.410706  \n",
       "min            0.000000            NaN     1.000000     1.000000  \n",
       "25%            0.000000            NaN     2.000000     4.000000  \n",
       "50%            1.000000            NaN     2.000000     6.000000  \n",
       "75%            4.000000            NaN     4.000000     6.000000  \n",
       "max           14.000000            NaN     9.000000     7.000000  "
      ]
     },
     "execution_count": 5,
     "metadata": {},
     "output_type": "execute_result"
    }
   ],
   "source": [
    "test.describe(include='all')"
   ]
  },
  {
   "cell_type": "markdown",
   "metadata": {},
   "source": [
    "Verificam daca exista duplicate in fisier"
   ]
  },
  {
   "cell_type": "code",
   "execution_count": 6,
   "metadata": {},
   "outputs": [
    {
     "name": "stdout",
     "output_type": "stream",
     "text": [
      "Numarul de linii duplicate din fisierul de antrenament este:  0\n",
      "Numarul de linii duplicate din fisierul de test este:  0\n"
     ]
    }
   ],
   "source": [
    "print('Numarul de linii duplicate din fisierul de antrenament este: ', data.duplicated().sum())\n",
    "print('Numarul de linii duplicate din fisierul de test este: ', test.duplicated().sum())"
   ]
  },
  {
   "cell_type": "markdown",
   "metadata": {},
   "source": [
    "Observam ca avem o coloana ID, care nu ne va fi folosotoare. <br>\n",
    "De asemenea, setul de date contine valori null. <br><br>\n",
    "Acestea probleme vor fi rezolvate pentru o mai buna analiza a datelor dupa cum urmeaza:<br>\n",
    "    -se va sterge coloana ID<br>\n",
    "    -vom elimina randurile care au null pe coloana \"Package\" - sunt clienti care nu au achizitionat un pachet de calatorie sau noi clienti care nu si-au exprimat vreo opinie in legatura cu pachetele noastre de calatorie;<br><br>\n",
    "Pentru datele de antrenament vom inlocui valorile null cu cea mai frecventa inregistrare de pe coloana respectiva<br><br>\n",
    "Pentru datele de test:<br>\n",
    "    -vom presupune ca persoanele care au null pe coloana \"Married\" sunt necasatorite;<br>\n",
    "    -vom presupune ca persoanele care au null pe coloana \"Graduated\" nu au studii superioare;<br>\n",
    "    -vom presupune ca persoanele care au null pe coloana \"Profession\" sunt muncitori necalificati;<br>\n",
    "    -vom presupune ca persoanele care au null pe coloana \"Work_Experience\" au 0 ani vechime;<br>\n",
    "    -vom presupune ca persoanele care au null pe coloana \"Family_Size\" provin dintr-o familie in care ei sunt singurul membru.<br>\n",
    "    \n"
   ]
  },
  {
   "cell_type": "code",
   "execution_count": 7,
   "metadata": {},
   "outputs": [],
   "source": [
    "data=data.drop(['ID'], axis=1)\n",
    "test=test.drop(['ID'], axis=1)"
   ]
  },
  {
   "cell_type": "code",
   "execution_count": 8,
   "metadata": {},
   "outputs": [],
   "source": [
    "data.dropna(subset = [\"Package\"], inplace=True)\n",
    "test.dropna(subset = [\"Package\"], inplace=True)"
   ]
  },
  {
   "cell_type": "code",
   "execution_count": 9,
   "metadata": {},
   "outputs": [],
   "source": [
    "data = data.fillna(data.mode().iloc[0])"
   ]
  },
  {
   "cell_type": "code",
   "execution_count": 10,
   "metadata": {},
   "outputs": [],
   "source": [
    "test.loc[(test['Married'].isnull()),'Married']= 'No'\n",
    "test.loc[(test['Graduated'].isnull()),'Graduated']= 'No'\n",
    "test.loc[(test['Profession'].isnull()),'Profession']= 'Unqualified Worker'\n",
    "test.loc[(test['Work_Experience'].isnull()),'Work_Experience']= 0\n",
    "test.loc[(test['Family_Size'].isnull()),'Family_Size']= 1"
   ]
  },
  {
   "cell_type": "markdown",
   "metadata": {},
   "source": [
    "Evaluam modificarile"
   ]
  },
  {
   "cell_type": "code",
   "execution_count": 11,
   "metadata": {},
   "outputs": [
    {
     "data": {
      "text/plain": [
       "Gender             0\n",
       "Married            0\n",
       "Age                0\n",
       "Graduated          0\n",
       "Profession         0\n",
       "Work_Experience    0\n",
       "Spending_Score     0\n",
       "Family_Size        0\n",
       "Category           0\n",
       "Package            0\n",
       "dtype: int64"
      ]
     },
     "execution_count": 11,
     "metadata": {},
     "output_type": "execute_result"
    }
   ],
   "source": [
    "data.isnull().sum()"
   ]
  },
  {
   "cell_type": "code",
   "execution_count": 12,
   "metadata": {
    "scrolled": true
   },
   "outputs": [
    {
     "data": {
      "text/plain": [
       "Gender             0\n",
       "Married            0\n",
       "Age                0\n",
       "Graduated          0\n",
       "Profession         0\n",
       "Work_Experience    0\n",
       "Spending_Score     0\n",
       "Family_Size        0\n",
       "Package            0\n",
       "dtype: int64"
      ]
     },
     "execution_count": 12,
     "metadata": {},
     "output_type": "execute_result"
    }
   ],
   "source": [
    "test.isnull().sum()"
   ]
  },
  {
   "cell_type": "markdown",
   "metadata": {},
   "source": [
    "## Analizam datele din fisierul de antrenament"
   ]
  },
  {
   "cell_type": "code",
   "execution_count": 13,
   "metadata": {},
   "outputs": [
    {
     "data": {
      "text/plain": [
       "Age    18\n",
       "dtype: int64"
      ]
     },
     "execution_count": 13,
     "metadata": {},
     "output_type": "execute_result"
    }
   ],
   "source": [
    "# determinam varsta minima si maxima a cumparatorilor\n",
    "data.agg({'Age':'min'})"
   ]
  },
  {
   "cell_type": "code",
   "execution_count": 14,
   "metadata": {},
   "outputs": [
    {
     "data": {
      "text/plain": [
       "Age    89\n",
       "dtype: int64"
      ]
     },
     "execution_count": 14,
     "metadata": {},
     "output_type": "execute_result"
    }
   ],
   "source": [
    "data.agg({'Age':'max'})"
   ]
  },
  {
   "cell_type": "code",
   "execution_count": 15,
   "metadata": {},
   "outputs": [
    {
     "data": {
      "text/plain": [
       "6.0    5238\n",
       "4.0    1089\n",
       "3.0     822\n",
       "2.0     422\n",
       "7.0     203\n",
       "1.0     133\n",
       "5.0      85\n",
       "Name: Package, dtype: int64"
      ]
     },
     "execution_count": 15,
     "metadata": {},
     "output_type": "execute_result"
    }
   ],
   "source": [
    "# numaram de cate ori a fost achizitionat fiecare pachet de vacanta\n",
    "data.Package.value_counts()"
   ]
  },
  {
   "cell_type": "code",
   "execution_count": 16,
   "metadata": {
    "scrolled": true
   },
   "outputs": [
    {
     "name": "stdout",
     "output_type": "stream",
     "text": [
      "+--------+------------------+\n",
      "|Category|             medie|\n",
      "+--------+------------------+\n",
      "|       A|2.4178187403993854|\n",
      "|       B| 2.680758807588076|\n",
      "|       C|  2.95638789122627|\n",
      "|       D|3.1532293986636972|\n",
      "+--------+------------------+\n",
      "\n"
     ]
    }
   ],
   "source": [
    "# care este media numarului de persoane dintr-o familie, grupat pe categoriile agentiei si ordonat creascator\n",
    "from pyspark import SparkContext as sc\n",
    "from pyspark.sql import SparkSession\n",
    "\n",
    "\n",
    "# Convertim DataFrame-ul Pandas la PySpark (Spark)\n",
    "spark1 = SparkSession.builder.appName('SQL').getOrCreate()\n",
    "sparkDF = spark1.createDataFrame(data) \n",
    "\n",
    "sparkDF.createOrReplaceTempView('clienti')\n",
    "\n",
    "result = spark1.sql(\"select Category, avg(Family_Size) as medie from clienti group by Category order by medie\")\n",
    "result.show()"
   ]
  },
  {
   "cell_type": "markdown",
   "metadata": {},
   "source": [
    "Vizualizari grafice"
   ]
  },
  {
   "cell_type": "code",
   "execution_count": 17,
   "metadata": {
    "scrolled": true
   },
   "outputs": [
    {
     "data": {
      "image/png": "[encoded data removed]",
      "text/plain": [
       "<Figure size 432x288 with 1 Axes>"
      ]
     },
     "metadata": {
      "needs_background": "light"
     },
     "output_type": "display_data"
    }
   ],
   "source": [
    "# distibutia clientilor per categorie\n",
    "\n",
    "import matplotlib.pyplot as plt\n",
    "import seaborn as sns\n",
    "import warnings\n",
    "warnings.filterwarnings('ignore')\n",
    "\n",
    "sns.countplot(data['Category'], order=['A','B','C','D']);"
   ]
  },
  {
   "cell_type": "markdown",
   "metadata": {},
   "source": [
    "Se poate observa ca distributia clientilor este relativ egala in cele 4 categorii de fidelitate"
   ]
  },
  {
   "cell_type": "code",
   "execution_count": 18,
   "metadata": {
    "scrolled": true
   },
   "outputs": [
    {
     "data": {
      "image/png": "[encoded data removed]",
      "text/plain": [
       "<Figure size 360x360 with 1 Axes>"
      ]
     },
     "metadata": {
      "needs_background": "light"
     },
     "output_type": "display_data"
    }
   ],
   "source": [
    "# distributia numarului de membri ai familiei per categorie\n",
    "\n",
    "plt.figure(figsize=(5,5))\n",
    "sns.countplot('Family_Size', hue='Category', data=data, hue_order=['A','B','C','D'], palette='viridis');"
   ]
  },
  {
   "cell_type": "code",
   "execution_count": 19,
   "metadata": {},
   "outputs": [
    {
     "data": {
      "text/plain": [
       "Text(0, 0.5, 'Count')"
      ]
     },
     "execution_count": 19,
     "metadata": {},
     "output_type": "execute_result"
    },
    {
     "data": {
      "image/png": "[encoded data removed]",
      "text/plain": [
       "<Figure size 360x360 with 1 Axes>"
      ]
     },
     "metadata": {
      "needs_background": "light"
     },
     "output_type": "display_data"
    }
   ],
   "source": [
    "# vizualizarea vanzarilor fiecarui pachet per categorie\n",
    "\n",
    "plt.figure(figsize=(5,5))\n",
    "ax=sns.countplot('Package',hue='Category',data=data, palette='Paired')\n",
    "\n",
    "ax.set_xlabel('Package', fontsize = 15)\n",
    "ax.set_ylabel( 'Count', fontsize = 15)\n"
   ]
  },
  {
   "cell_type": "markdown",
   "metadata": {},
   "source": [
    "Se poate observa ca cel mai cumparat pachet a fost pachetul 6, indiferent de categoria de client"
   ]
  },
  {
   "cell_type": "markdown",
   "metadata": {},
   "source": [
    "In continuare vom analiza distributia pe varste a celor 4 categorii"
   ]
  },
  {
   "cell_type": "code",
   "execution_count": 20,
   "metadata": {},
   "outputs": [
    {
     "data": {
      "image/png": "[encoded data removed]",
      "text/plain": [
       "<Figure size 1080x360 with 1 Axes>"
      ]
     },
     "metadata": {
      "needs_background": "light"
     },
     "output_type": "display_data"
    }
   ],
   "source": [
    "a = data[data.Category =='A'][\"Age\"]\n",
    "b = data[data.Category =='B'][\"Age\"]\n",
    "c = data[data.Category =='C'][\"Age\"]\n",
    "d = data[data.Category =='D'][\"Age\"]\n",
    "\n",
    "plt.figure(figsize=(15,5))\n",
    "\n",
    "sns.kdeplot(a,shade= False, label = 'A')\n",
    "sns.kdeplot(b,shade= False, label = 'B')\n",
    "sns.kdeplot(c,shade= False, label = 'C')\n",
    "sns.kdeplot(d,shade= False, label = 'D')\n",
    "plt.xlabel('Age')\n",
    "plt.ylabel('Density')\n",
    "plt.title(\"Mean\\n A: {}\\n B: {}\\n C: {}\\n D: {}\".format(round(a.mean(),0),round(b.mean(),0),round(c.mean(),0),round(d.mean(),0)))\n",
    "\n",
    "plt.show()"
   ]
  },
  {
   "cell_type": "markdown",
   "metadata": {},
   "source": [
    "Ca urmare a analizei, vom imparti clientii in 4 categorii de varsta dupa cum urmeaza:<br>\n",
    "17-30 ani - categoria 1<br>\n",
    "31-45 ani - categoria 2<br>\n",
    "46-60 ani - categoria 3<br>\n",
    "60+ - categoria 4"
   ]
  },
  {
   "cell_type": "code",
   "execution_count": 21,
   "metadata": {},
   "outputs": [
    {
     "name": "stdout",
     "output_type": "stream",
     "text": [
      "<class 'pandas.core.frame.DataFrame'>\n",
      "Int64Index: 7992 entries, 0 to 8067\n",
      "Data columns (total 11 columns):\n",
      " #   Column           Non-Null Count  Dtype   \n",
      "---  ------           --------------  -----   \n",
      " 0   Gender           7992 non-null   object  \n",
      " 1   Married          7992 non-null   object  \n",
      " 2   Age              7992 non-null   int64   \n",
      " 3   Graduated        7992 non-null   object  \n",
      " 4   Profession       7992 non-null   object  \n",
      " 5   Work_Experience  7992 non-null   float64 \n",
      " 6   Spending_Score   7992 non-null   object  \n",
      " 7   Family_Size      7992 non-null   float64 \n",
      " 8   Category         7992 non-null   object  \n",
      " 9   Package          7992 non-null   float64 \n",
      " 10  Age_Bin          7992 non-null   category\n",
      "dtypes: category(1), float64(3), int64(1), object(6)\n",
      "memory usage: 1014.8+ KB\n"
     ]
    }
   ],
   "source": [
    "data['Age_Bin'] = pd.cut(data.Age,bins=[17,30,45,60,90],labels=['17-30','31-45','46-60','60+'])\n",
    "\n",
    "data.info()\n"
   ]
  },
  {
   "cell_type": "code",
   "execution_count": 22,
   "metadata": {},
   "outputs": [
    {
     "name": "stdout",
     "output_type": "stream",
     "text": [
      "<class 'pandas.core.frame.DataFrame'>\n",
      "Int64Index: 2595 entries, 0 to 2626\n",
      "Data columns (total 10 columns):\n",
      " #   Column           Non-Null Count  Dtype   \n",
      "---  ------           --------------  -----   \n",
      " 0   Gender           2595 non-null   object  \n",
      " 1   Married          2595 non-null   object  \n",
      " 2   Age              2595 non-null   int64   \n",
      " 3   Graduated        2595 non-null   object  \n",
      " 4   Profession       2595 non-null   object  \n",
      " 5   Work_Experience  2595 non-null   float64 \n",
      " 6   Spending_Score   2595 non-null   object  \n",
      " 7   Family_Size      2595 non-null   float64 \n",
      " 8   Package          2595 non-null   float64 \n",
      " 9   Age_Bin          2595 non-null   category\n",
      "dtypes: category(1), float64(3), int64(1), object(5)\n",
      "memory usage: 205.5+ KB\n"
     ]
    }
   ],
   "source": [
    "test['Age_Bin'] = pd.cut(test.Age,bins=[17,30,45,60,90],labels=['17-30','31-45','46-60','60+'])\n",
    "\n",
    "test.info()"
   ]
  },
  {
   "cell_type": "markdown",
   "metadata": {},
   "source": [
    "Procesam datele de antrenament"
   ]
  },
  {
   "cell_type": "code",
   "execution_count": 23,
   "metadata": {},
   "outputs": [],
   "source": [
    "# Convertim variabilele de clasificare la tipul numeric\n",
    "\n",
    "data['Gender'] = data['Gender'].replace(('Male','Female'),(1,0))\n",
    "data['Married'] = data['Married'].replace(('Yes','No'),(1,0))\n",
    "data['Graduated'] = data['Graduated'].replace(('Yes','No'),(1,0))\n",
    "data['Spending_Score'] = data['Spending_Score'].replace(('High','Average','Low'),(3,2,1))\n",
    "data['Age_Bin'] = data['Age_Bin'].replace(('17-30','31-45','46-60','60+'),(1,2,3,4))\n",
    "data['Category'] = data['Category'].replace(('A','B','C','D'),(1,2,3,4))\n",
    "\n",
    "# Convertim tipul de date al \"Package\", \"Work_Experience\", \"Family_Size\" la int\n",
    "\n",
    "data[['Package']] = data[['Package']].astype('int')\n",
    "data[['Work_Experience']] = data[['Work_Experience']].astype('int')\n",
    "data[['Family_Size']] = data[['Family_Size']].astype('int')\n"
   ]
  },
  {
   "cell_type": "code",
   "execution_count": 24,
   "metadata": {
    "scrolled": true
   },
   "outputs": [
    {
     "data": {
      "text/plain": [
       "Artist           2612\n",
       "Healthcare       1317\n",
       "Entertainment     943\n",
       "Engineer          694\n",
       "Doctor            683\n",
       "Lawyer            617\n",
       "Executive         594\n",
       "Marketing         290\n",
       "Homemaker         242\n",
       "Name: Profession, dtype: int64"
      ]
     },
     "execution_count": 24,
     "metadata": {},
     "output_type": "execute_result"
    }
   ],
   "source": [
    "#Transformam \"Profession\" intr-o variabila categoiriala folosind StringIndexer\n",
    "\n",
    "data.Profession.value_counts()"
   ]
  },
  {
   "cell_type": "code",
   "execution_count": 25,
   "metadata": {},
   "outputs": [
    {
     "data": {
      "text/plain": [
       "['Gender',\n",
       " 'Married',\n",
       " 'Age',\n",
       " 'Graduated',\n",
       " 'Profession',\n",
       " 'Work_Experience',\n",
       " 'Spending_Score',\n",
       " 'Family_Size',\n",
       " 'Category',\n",
       " 'Package',\n",
       " 'Age_Bin',\n",
       " 'Profession_cat']"
      ]
     },
     "execution_count": 25,
     "metadata": {},
     "output_type": "execute_result"
    }
   ],
   "source": [
    "sparkDF2 = spark1.createDataFrame(data) \n",
    "from pyspark.ml.feature import StringIndexer\n",
    "indexer = StringIndexer(inputCol=\"Profession\", outputCol=\"Profession_cat\")\n",
    "indexed = indexer.fit(sparkDF2).transform(sparkDF2)\n",
    "indexed.columns"
   ]
  },
  {
   "cell_type": "code",
   "execution_count": 26,
   "metadata": {
    "scrolled": true
   },
   "outputs": [
    {
     "data": {
      "text/plain": [
       "['Gender',\n",
       " 'Married',\n",
       " 'Graduated',\n",
       " 'Work_Experience',\n",
       " 'Spending_Score',\n",
       " 'Family_Size',\n",
       " 'Category',\n",
       " 'Package',\n",
       " 'Age_Bin',\n",
       " 'Profession_cat']"
      ]
     },
     "execution_count": 26,
     "metadata": {},
     "output_type": "execute_result"
    }
   ],
   "source": [
    "# Eliminam informatiile nefolositoare in analizele viitoare\n",
    "\n",
    "train=indexed.drop('Profession', 'Age' )\n",
    "train.columns"
   ]
  },
  {
   "cell_type": "markdown",
   "metadata": {},
   "source": [
    "Facem toate aceste prelucrari si pentru setul de date de test"
   ]
  },
  {
   "cell_type": "code",
   "execution_count": 27,
   "metadata": {},
   "outputs": [],
   "source": [
    "test['Gender'] = test['Gender'].replace(('Male','Female'),(1,0))\n",
    "test['Married'] = test['Married'].replace(('Yes','No'),(1,0))\n",
    "test['Graduated'] = test['Graduated'].replace(('Yes','No'),(1,0))\n",
    "test['Spending_Score'] = test['Spending_Score'].replace(('High','Average','Low'),(3,2,1))\n",
    "test['Age_Bin'] = test['Age_Bin'].replace(('17-30','31-45','46-60','60+'),(1,2,3,4))\n",
    "test[['Package']] = test[['Package']].astype('int')\n",
    "test[['Work_Experience']] = test[['Work_Experience']].astype('int')\n",
    "test[['Family_Size']] = test[['Family_Size']].astype('int')\n"
   ]
  },
  {
   "cell_type": "code",
   "execution_count": 28,
   "metadata": {
    "scrolled": true
   },
   "outputs": [
    {
     "data": {
      "text/plain": [
       "['Gender',\n",
       " 'Married',\n",
       " 'Graduated',\n",
       " 'Work_Experience',\n",
       " 'Spending_Score',\n",
       " 'Family_Size',\n",
       " 'Package',\n",
       " 'Age_Bin',\n",
       " 'Profession_cat']"
      ]
     },
     "execution_count": 28,
     "metadata": {},
     "output_type": "execute_result"
    }
   ],
   "source": [
    "#Transformam \"Profession\" intr-o variabila categoiriala folosind StringIndexer\n",
    "\n",
    "sparkDF3 = spark1.createDataFrame(test) \n",
    "from pyspark.ml.feature import StringIndexer\n",
    "test_indexer = StringIndexer(inputCol=\"Profession\", outputCol=\"Profession_cat\")\n",
    "test_indexed = indexer.fit(sparkDF3).transform(sparkDF3)\n",
    "\n",
    "# Eliminam coloanele ce nu ne vor fi folositoare in analiza\n",
    "test=test_indexed.drop('Profession', 'Age' )\n",
    "test.columns\n"
   ]
  },
  {
   "cell_type": "code",
   "execution_count": 29,
   "metadata": {},
   "outputs": [],
   "source": [
    "from pyspark.sql.types import IntegerType\n",
    "train = train.withColumn(\"Profession_cat\", train[\"Profession_cat\"].cast(IntegerType()))\n",
    "test = test.withColumn(\"Profession_cat\", test[\"Profession_cat\"].cast(IntegerType()))"
   ]
  },
  {
   "cell_type": "markdown",
   "metadata": {},
   "source": [
    "Convertim din dataframe de PySpark in dataframe de Pandas. Salvam datele in format CSV pentru a le pastra pentru prelucrarile ulterioare"
   ]
  },
  {
   "cell_type": "code",
   "execution_count": 30,
   "metadata": {},
   "outputs": [],
   "source": [
    "traincsv = train.toPandas()\n",
    "testcsv = test.toPandas()"
   ]
  },
  {
   "cell_type": "code",
   "execution_count": 31,
   "metadata": {},
   "outputs": [],
   "source": [
    "traincsv.to_csv(\"Training.csv\", \n",
    "             columns=['Gender', 'Married', 'Graduated', 'Work_Experience', 'Spending_Score','Family_Size', 'Age_Bin', 'Profession_cat','Package'], \n",
    "             index = False)"
   ]
  },
  {
   "cell_type": "code",
   "execution_count": 32,
   "metadata": {},
   "outputs": [],
   "source": [
    "testcsv.to_csv(\"Testing.csv\", \n",
    "            columns=['Gender', 'Married', 'Graduated', 'Work_Experience', 'Spending_Score','Family_Size', 'Age_Bin', 'Profession_cat','Package'], \n",
    "            index = False)"
   ]
  },
  {
   "cell_type": "markdown",
   "metadata": {},
   "source": [
    "## Utilizam Spark ML/ Tensorflow: o metodă clasică ML și una Deep Learning."
   ]
  },
  {
   "cell_type": "markdown",
   "metadata": {},
   "source": [
    "### Analizam daca metoda de clasificare actuala a clientilor are legatura cu detaliilor lor sociale si daca se poate folosi si la clasificarea clientilor din noua piata  \n",
    "\n",
    "<h3><center>--------------------Regresia logistica--------------------------</center></h3>"
   ]
  },
  {
   "cell_type": "code",
   "execution_count": 33,
   "metadata": {},
   "outputs": [],
   "source": [
    "#eliminam coloana ce nu ne este momentan folositoare in analiza\n",
    "train=train.drop(\"Package\")"
   ]
  },
  {
   "cell_type": "code",
   "execution_count": 34,
   "metadata": {},
   "outputs": [],
   "source": [
    "# Divizarea test-train a datelor 30%, 70%\n",
    "train_X,test_X = train.randomSplit([0.7,0.3])"
   ]
  },
  {
   "cell_type": "code",
   "execution_count": 35,
   "metadata": {},
   "outputs": [],
   "source": [
    "# Formatarea pentru MLlib\n",
    "from pyspark.ml.feature import VectorAssembler\n",
    "\n",
    "assembler = VectorAssembler(inputCols=['Gender', 'Married', 'Graduated', 'Work_Experience',\n",
    " 'Spending_Score', 'Family_Size', 'Age_Bin', 'Profession_cat'],outputCol='features')"
   ]
  },
  {
   "cell_type": "code",
   "execution_count": 36,
   "metadata": {},
   "outputs": [],
   "source": [
    "from pyspark.ml.classification import LogisticRegression"
   ]
  },
  {
   "cell_type": "code",
   "execution_count": 37,
   "metadata": {},
   "outputs": [],
   "source": [
    "lr = LogisticRegression(featuresCol='features', labelCol='Category')"
   ]
  },
  {
   "cell_type": "markdown",
   "metadata": {},
   "source": [
    "Antrenam modelul"
   ]
  },
  {
   "cell_type": "code",
   "execution_count": 38,
   "metadata": {},
   "outputs": [],
   "source": [
    "#Cream pipeline-ul\n",
    "\n",
    "from pyspark.ml import Pipeline\n",
    "\n",
    "myStages = [assembler,lr]\n",
    "pipeline = Pipeline(stages= myStages)"
   ]
  },
  {
   "cell_type": "code",
   "execution_count": 39,
   "metadata": {},
   "outputs": [],
   "source": [
    "fitted_model = pipeline.fit(train_X)"
   ]
  },
  {
   "cell_type": "code",
   "execution_count": 40,
   "metadata": {},
   "outputs": [],
   "source": [
    "trainingPred = fitted_model.transform(train_X)"
   ]
  },
  {
   "cell_type": "code",
   "execution_count": 41,
   "metadata": {},
   "outputs": [
    {
     "name": "stdout",
     "output_type": "stream",
     "text": [
      "+--------+--------------------+----------+\n",
      "|Category|         probability|prediction|\n",
      "+--------+--------------------+----------+\n",
      "|       1|[1.13413592583484...|       4.0|\n",
      "|       1|[9.62731707705940...|       4.0|\n",
      "|       2|[7.01871758543168...|       4.0|\n",
      "|       4|[1.22986310204207...|       4.0|\n",
      "|       4|[1.62391569796067...|       4.0|\n",
      "|       4|[1.62391569796067...|       4.0|\n",
      "|       4|[9.55508178072519...|       4.0|\n",
      "|       4|[6.57540522500650...|       4.0|\n",
      "|       4|[1.04429578902065...|       4.0|\n",
      "|       2|[2.90867562230743...|       4.0|\n",
      "|       4|[1.25582967287741...|       4.0|\n",
      "|       4|[1.25582967287741...|       4.0|\n",
      "|       4|[9.64809017237357...|       4.0|\n",
      "|       4|[5.66545736220406...|       4.0|\n",
      "|       4|[4.56844221382445...|       4.0|\n",
      "|       2|[5.19666743380634...|       4.0|\n",
      "|       3|[6.41712343041609...|       4.0|\n",
      "|       4|[7.36699295472144...|       4.0|\n",
      "|       4|[5.19666743380634...|       4.0|\n",
      "|       4|[6.58251615578604...|       4.0|\n",
      "+--------+--------------------+----------+\n",
      "only showing top 20 rows\n",
      "\n"
     ]
    }
   ],
   "source": [
    "training_sum = trainingPred.select('Category','probability','prediction').show()"
   ]
  },
  {
   "cell_type": "markdown",
   "metadata": {},
   "source": [
    "Evaluarea rezultatelor"
   ]
  },
  {
   "cell_type": "code",
   "execution_count": 42,
   "metadata": {},
   "outputs": [],
   "source": [
    "from pyspark.ml.evaluation import MulticlassClassificationEvaluator"
   ]
  },
  {
   "cell_type": "code",
   "execution_count": 43,
   "metadata": {},
   "outputs": [],
   "source": [
    "evaluator = MulticlassClassificationEvaluator (labelCol='Category', predictionCol='prediction', metricName = \"accuracy\")"
   ]
  },
  {
   "cell_type": "code",
   "execution_count": 44,
   "metadata": {},
   "outputs": [],
   "source": [
    "accuracy = evaluator.evaluate(trainingPred)"
   ]
  },
  {
   "cell_type": "code",
   "execution_count": 45,
   "metadata": {},
   "outputs": [
    {
     "name": "stdout",
     "output_type": "stream",
     "text": [
      "0.4718335127377108\n"
     ]
    }
   ],
   "source": [
    "print(accuracy)"
   ]
  },
  {
   "cell_type": "markdown",
   "metadata": {},
   "source": [
    "Am obtinut un scor de acuratete destul de mic."
   ]
  },
  {
   "cell_type": "markdown",
   "metadata": {},
   "source": [
    "### Crearea unui proces de streaming\n",
    "\n",
    "<h3><center>--------------------SparkStreaming--------------------------</center></h3>"
   ]
  },
  {
   "cell_type": "markdown",
   "metadata": {},
   "source": [
    "Vom imparti datele de test in 3 csv-uri"
   ]
  },
  {
   "cell_type": "code",
   "execution_count": 46,
   "metadata": {},
   "outputs": [],
   "source": [
    "testData = test_X.repartition(3)"
   ]
  },
  {
   "cell_type": "code",
   "execution_count": 47,
   "metadata": {},
   "outputs": [],
   "source": [
    "testData.write.format(\"CSV\").option(\"header\",True).save(\"./Streaming\")"
   ]
  },
  {
   "cell_type": "markdown",
   "metadata": {},
   "source": [
    "Cream sursa de streaming"
   ]
  },
  {
   "cell_type": "code",
   "execution_count": 48,
   "metadata": {},
   "outputs": [],
   "source": [
    "from pyspark.sql.types import StructType"
   ]
  },
  {
   "cell_type": "code",
   "execution_count": 49,
   "metadata": {},
   "outputs": [],
   "source": [
    "sparkSession = SparkSession.builder.appName('SparkStream').getOrCreate()"
   ]
  },
  {
   "cell_type": "markdown",
   "metadata": {},
   "source": [
    "Definim schema CSV-urilor ce urmeaza sa fie preluate prin SparkStreaming"
   ]
  },
  {
   "cell_type": "code",
   "execution_count": 50,
   "metadata": {},
   "outputs": [],
   "source": [
    "dataSchema = StructType()"
   ]
  },
  {
   "cell_type": "code",
   "execution_count": 51,
   "metadata": {
    "scrolled": true
   },
   "outputs": [
    {
     "data": {
      "text/plain": [
       "StructType(List(StructField(Gender,IntegerType,true),StructField(Married,IntegerType,true),StructField(Graduated,IntegerType,true),StructField(Work_Experience,IntegerType,true),StructField(Spending_Score,IntegerType,true),StructField(Family_Size,IntegerType,true),StructField(Category,IntegerType,true),StructField(Age_Bin,IntegerType,true),StructField(Profession_cat,IntegerType,true)))"
      ]
     },
     "execution_count": 51,
     "metadata": {},
     "output_type": "execute_result"
    }
   ],
   "source": [
    "dataSchema.add(\"Gender\", \"integer\")\n",
    "dataSchema.add(\"Married\", \"integer\")\n",
    "dataSchema.add(\"Graduated\", \"integer\")\n",
    "dataSchema.add(\"Work_Experience\", \"integer\")\n",
    "dataSchema.add(\"Spending_Score\", \"integer\")\n",
    "dataSchema.add(\"Family_Size\", \"integer\")\n",
    "dataSchema.add(\"Category\", \"integer\")\n",
    "dataSchema.add(\"Age_Bin\", \"integer\")\n",
    "dataSchema.add(\"Profession_cat\", \"integer\")"
   ]
  },
  {
   "cell_type": "code",
   "execution_count": 52,
   "metadata": {},
   "outputs": [],
   "source": [
    "sourceStream=sparkSession.readStream.format(\"csv\").option(\"header\",True).schema(dataSchema).load(\"./Streaming\")"
   ]
  },
  {
   "cell_type": "markdown",
   "metadata": {},
   "source": [
    "Transmiterea datelor de test in modelul ML"
   ]
  },
  {
   "cell_type": "code",
   "execution_count": 53,
   "metadata": {},
   "outputs": [],
   "source": [
    "streaming = fitted_model.transform(sourceStream).select(\"Category\", \"probability\", \"prediction\")"
   ]
  },
  {
   "cell_type": "markdown",
   "metadata": {},
   "source": [
    "Vizualizam rezultatul"
   ]
  },
  {
   "cell_type": "code",
   "execution_count": 54,
   "metadata": {},
   "outputs": [],
   "source": [
    "streaming.createOrReplaceTempView(\"result\")"
   ]
  },
  {
   "cell_type": "code",
   "execution_count": 55,
   "metadata": {},
   "outputs": [],
   "source": [
    "result = streaming.writeStream.outputMode(\"append\").queryName(\"result\").format(\"memory\").start()"
   ]
  },
  {
   "cell_type": "code",
   "execution_count": 56,
   "metadata": {},
   "outputs": [],
   "source": [
    "result = sparkSession.sql(\"select * from result\")"
   ]
  },
  {
   "cell_type": "code",
   "execution_count": 57,
   "metadata": {},
   "outputs": [
    {
     "name": "stdout",
     "output_type": "stream",
     "text": [
      "+--------+--------------------+----------+\n",
      "|Category|         probability|prediction|\n",
      "+--------+--------------------+----------+\n",
      "|       1|[2.82878454438087...|       4.0|\n",
      "|       1|[1.47274666178401...|       4.0|\n",
      "|       3|[9.54821295203086...|       4.0|\n",
      "|       2|[4.41515871023829...|       3.0|\n",
      "|       3|[2.01542783086279...|       3.0|\n",
      "|       2|[2.04691436733848...|       1.0|\n",
      "|       1|[1.20966728074902...|       2.0|\n",
      "|       1|[1.08297502110451...|       2.0|\n",
      "|       1|[1.09637137780270...|       3.0|\n",
      "|       3|[9.76928411789756...|       3.0|\n",
      "|       4|[3.95646434222445...|       2.0|\n",
      "|       3|[1.33013382304713...|       3.0|\n",
      "|       3|[1.23718240608546...|       3.0|\n",
      "|       4|[1.05093667369175...|       4.0|\n",
      "|       1|[6.01786043504474...|       1.0|\n",
      "|       3|[2.59348519244074...|       3.0|\n",
      "|       4|[2.64562852234984...|       4.0|\n",
      "|       4|[1.04066665518725...|       4.0|\n",
      "|       2|[1.23718240608546...|       3.0|\n",
      "|       4|[6.10966894631777...|       4.0|\n",
      "+--------+--------------------+----------+\n",
      "only showing top 20 rows\n",
      "\n"
     ]
    }
   ],
   "source": [
    "result.show()"
   ]
  },
  {
   "cell_type": "code",
   "execution_count": 58,
   "metadata": {},
   "outputs": [],
   "source": [
    "sparkSession.stop()"
   ]
  },
  {
   "cell_type": "markdown",
   "metadata": {},
   "source": [
    "Avand in vedere ca acuratetea este destul de mica, putem concluziona ca detaliile sociale ale clientilor nu sunt in stransa legatura cu fidelitatea lor (numarul de pachete de vacanta cumparate). Astfel, acest indicator de fidelitate nu ne-ar ajuta la prezicerea tipurilor de pachete ce ar putea fi cumparate in noua piata."
   ]
  },
  {
   "cell_type": "markdown",
   "metadata": {},
   "source": [
    "### Analizam daca detaliile sociale ale clientilor din actuala piata ne ajuta la prezicerea tipului de pachet de vacanta din noua piata - comparatie rezultat prezicere cu rezultat chestionar.\n",
    "\n",
    "<h3><center>--------------------Tensorflow--------------------------</center></h3>\n"
   ]
  },
  {
   "cell_type": "code",
   "execution_count": 59,
   "metadata": {},
   "outputs": [],
   "source": [
    "import tensorflow as tf"
   ]
  },
  {
   "cell_type": "markdown",
   "metadata": {},
   "source": [
    "Definim feature si label"
   ]
  },
  {
   "cell_type": "code",
   "execution_count": 60,
   "metadata": {},
   "outputs": [
    {
     "name": "stdout",
     "output_type": "stream",
     "text": [
      "Features: ['Gender', 'Married', 'Graduated', 'Work_Experience', 'Spending_Score', 'Family_Size', 'Age_Bin', 'Profession_cat']\n",
      "Label: Package\n"
     ]
    }
   ],
   "source": [
    "column_names = ['Gender', 'Married', 'Graduated', 'Work_Experience', 'Spending_Score','Family_Size', 'Age_Bin', 'Profession_cat','Package']\n",
    "feature_names = column_names[:-1]\n",
    "label_name = column_names[-1]\n",
    "\n",
    "print(\"Features: {}\".format(feature_names))\n",
    "print(\"Label: {}\".format(label_name))"
   ]
  },
  {
   "cell_type": "markdown",
   "metadata": {},
   "source": [
    "Parsam datele pastrate anterior in CSV, creand tf.data.Dataset"
   ]
  },
  {
   "cell_type": "code",
   "execution_count": 61,
   "metadata": {},
   "outputs": [
    {
     "data": {
      "text/plain": [
       "<PrefetchDataset shapes: (OrderedDict([(Gender, (None,)), (Married, (None,)), (Graduated, (None,)), (Work_Experience, (None,)), (Spending_Score, (None,)), (Family_Size, (None,)), (Age_Bin, (None,)), (Profession_cat, (None,))]), (None,)), types: (OrderedDict([(Gender, tf.int32), (Married, tf.int32), (Graduated, tf.int32), (Work_Experience, tf.int32), (Spending_Score, tf.int32), (Family_Size, tf.int32), (Age_Bin, tf.int32), (Profession_cat, tf.int32)]), tf.int32)>"
      ]
     },
     "execution_count": 61,
     "metadata": {},
     "output_type": "execute_result"
    }
   ],
   "source": [
    "batch_size = 32\n",
    "\n",
    "train_dataset = tf.data.experimental.make_csv_dataset(\n",
    "    'Training.csv',\n",
    "    batch_size,\n",
    "    column_names=column_names,\n",
    "    column_defaults = ['int32', 'int32', 'int32', 'int32', 'int32', 'int32', 'int32', 'int32','int32'],\n",
    "    label_name=label_name,\n",
    "    num_epochs=1 \n",
    ")\n",
    "train_dataset"
   ]
  },
  {
   "cell_type": "markdown",
   "metadata": {},
   "source": [
    "Analizam features si labels"
   ]
  },
  {
   "cell_type": "code",
   "execution_count": 62,
   "metadata": {},
   "outputs": [
    {
     "name": "stdout",
     "output_type": "stream",
     "text": [
      "OrderedDict([('Gender', <tf.Tensor: shape=(32,), dtype=int32, numpy=\n",
      "array([1, 1, 0, 0, 0, 0, 0, 0, 0, 0, 0, 1, 0, 0, 1, 1, 1, 1, 1, 1, 0, 1,\n",
      "       1, 1, 0, 1, 0, 1, 1, 1, 1, 0])>), ('Married', <tf.Tensor: shape=(32,), dtype=int32, numpy=\n",
      "array([0, 1, 1, 1, 1, 1, 0, 0, 0, 1, 0, 1, 1, 1, 1, 1, 1, 1, 0, 1, 1, 0,\n",
      "       0, 0, 1, 1, 0, 0, 1, 0, 1, 1])>), ('Graduated', <tf.Tensor: shape=(32,), dtype=int32, numpy=\n",
      "array([0, 0, 1, 1, 0, 1, 1, 1, 0, 1, 1, 1, 1, 0, 1, 1, 1, 1, 1, 1, 1, 0,\n",
      "       0, 1, 1, 1, 1, 1, 1, 1, 0, 1])>), ('Work_Experience', <tf.Tensor: shape=(32,), dtype=int32, numpy=\n",
      "array([1, 0, 0, 0, 1, 6, 1, 9, 1, 1, 9, 4, 1, 1, 1, 1, 0, 0, 1, 0, 1, 1,\n",
      "       1, 0, 0, 8, 9, 0, 0, 1, 0, 1])>), ('Spending_Score', <tf.Tensor: shape=(32,), dtype=int32, numpy=\n",
      "array([1, 2, 2, 1, 2, 1, 1, 1, 1, 1, 1, 1, 3, 1, 2, 2, 1, 1, 1, 2, 2, 1,\n",
      "       1, 1, 2, 1, 1, 1, 1, 1, 3, 3])>), ('Family_Size', <tf.Tensor: shape=(32,), dtype=int32, numpy=\n",
      "array([3, 5, 2, 3, 6, 2, 4, 3, 3, 1, 1, 2, 3, 2, 4, 5, 1, 2, 2, 5, 5, 3,\n",
      "       2, 5, 3, 2, 1, 1, 2, 2, 3, 5])>), ('Age_Bin', <tf.Tensor: shape=(32,), dtype=int32, numpy=\n",
      "array([1, 4, 3, 3, 3, 2, 1, 1, 1, 4, 1, 3, 4, 1, 3, 3, 3, 4, 2, 3, 2, 1,\n",
      "       1, 2, 2, 2, 2, 2, 3, 2, 4, 3])>), ('Profession_cat', <tf.Tensor: shape=(32,), dtype=int32, numpy=\n",
      "array([1, 2, 0, 0, 3, 0, 1, 1, 1, 5, 8, 2, 6, 7, 0, 6, 3, 5, 0, 0, 3, 1,\n",
      "       2, 7, 4, 0, 0, 0, 0, 0, 6, 3])>)])\n",
      "tf.Tensor([6 6 6 6 3 3 6 4 6 6 2 2 6 6 6 4 6 6 6 6 3 6 3 6 6 6 3 3 6 6 6 3], shape=(32,), dtype=int32)\n"
     ]
    }
   ],
   "source": [
    "features, labels = next(iter(train_dataset))\n",
    "\n",
    "print(features)\n",
    "print(labels)"
   ]
  },
  {
   "cell_type": "markdown",
   "metadata": {},
   "source": [
    "Impachetam features intr-un singur array pentru simplificare"
   ]
  },
  {
   "cell_type": "code",
   "execution_count": 63,
   "metadata": {},
   "outputs": [],
   "source": [
    "def pack_features_vector(features, labels):\n",
    "    features = tf.stack(list(features.values()), axis=1)\n",
    "    return features, labels"
   ]
  },
  {
   "cell_type": "code",
   "execution_count": 64,
   "metadata": {},
   "outputs": [],
   "source": [
    "train_dataset = train_dataset.map(pack_features_vector)"
   ]
  },
  {
   "cell_type": "code",
   "execution_count": 65,
   "metadata": {
    "scrolled": false
   },
   "outputs": [
    {
     "name": "stdout",
     "output_type": "stream",
     "text": [
      "tf.Tensor(\n",
      "[[1 1 0 1 3 7 4 6]\n",
      " [0 0 1 1 1 2 1 3]\n",
      " [0 0 0 0 1 2 1 1]\n",
      " [1 1 1 1 1 3 1 1]\n",
      " [0 1 1 4 2 2 3 0]\n",
      " [0 0 1 6 1 7 1 8]\n",
      " [0 1 1 1 2 2 4 0]\n",
      " [1 1 1 0 3 2 4 5]\n",
      " [1 1 0 0 3 2 4 5]\n",
      " [1 0 1 1 1 2 1 1]\n",
      " [1 1 1 1 2 1 3 0]\n",
      " [1 1 1 0 1 4 4 0]\n",
      " [0 0 0 0 1 1 1 4]\n",
      " [1 0 0 0 1 4 1 1]\n",
      " [0 1 1 1 1 2 2 3]\n",
      " [1 1 1 1 2 2 4 0]\n",
      " [1 1 1 0 2 2 1 2]\n",
      " [1 1 0 9 2 3 2 0]\n",
      " [1 0 0 2 1 2 2 0]\n",
      " [1 1 1 0 2 4 3 2]\n",
      " [1 1 1 0 1 2 3 0]\n",
      " [0 0 0 2 1 7 1 3]\n",
      " [0 1 1 0 2 4 3 3]\n",
      " [1 1 0 1 3 3 2 6]\n",
      " [1 1 0 0 3 9 4 5]\n",
      " [1 1 1 0 3 5 3 6]\n",
      " [0 0 1 1 1 1 2 0]\n",
      " [0 1 1 0 2 2 2 0]\n",
      " [1 0 0 1 1 4 1 1]\n",
      " [1 1 1 9 3 3 2 6]\n",
      " [1 0 0 8 1 4 1 4]\n",
      " [0 1 1 1 1 2 3 8]], shape=(32, 8), dtype=int32)\n",
      "tf.Tensor([6 3 6 3 3 6 6 6 6 4 6 2 6 6 6 4 6 6 3 6 6 6 6 6 4 6 6 1 6 6 6 3], shape=(32,), dtype=int32)\n"
     ]
    }
   ],
   "source": [
    "features, labels = next(iter(train_dataset))\n",
    "\n",
    "print(features[:32])\n",
    "print(labels)"
   ]
  },
  {
   "cell_type": "markdown",
   "metadata": {},
   "source": [
    "Cream modelul urtilizand Keras -> 2 straturi cu 20 de noduri fiecare"
   ]
  },
  {
   "cell_type": "code",
   "execution_count": 66,
   "metadata": {
    "scrolled": true
   },
   "outputs": [],
   "source": [
    "from tensorflow.keras.models import Sequential\n",
    "from tensorflow.keras.layers import Dense, Activation, Dropout\n",
    "\n",
    "model = tf.keras.Sequential([\n",
    "    tf.keras.layers.Dense(20, activation=tf.nn.relu, input_shape=(8,)), \n",
    "    tf.keras.layers.Dense(20, activation=tf.nn.relu),\n",
    "    tf.keras.layers.Dense(8)\n",
    "])"
   ]
  },
  {
   "cell_type": "markdown",
   "metadata": {},
   "source": [
    "Antrenam modelul si il optimizam gradual"
   ]
  },
  {
   "cell_type": "code",
   "execution_count": 67,
   "metadata": {},
   "outputs": [],
   "source": [
    "# Folosim functia ce va compara probabilitatea predictiei cu pachetul cumparat deja de client\n",
    "loss_object = tf.keras.losses.SparseCategoricalCrossentropy(from_logits=True)"
   ]
  },
  {
   "cell_type": "code",
   "execution_count": 68,
   "metadata": {},
   "outputs": [
    {
     "name": "stdout",
     "output_type": "stream",
     "text": [
      "Test functie loss: 2.391913890838623\n"
     ]
    }
   ],
   "source": [
    "def loss(model, x, y, training):\n",
    "    y_ = model(x, training=training)\n",
    "    return loss_object(y_true=y, y_pred=y_)\n",
    "l = loss(model, features, labels, training=False)\n",
    "print(\"Test functie loss: {}\".format(l))"
   ]
  },
  {
   "cell_type": "markdown",
   "metadata": {},
   "source": [
    "Utilizam contextul tf.GradientTape pentru a calcula indicii de optimizare ai modelului"
   ]
  },
  {
   "cell_type": "code",
   "execution_count": 69,
   "metadata": {},
   "outputs": [],
   "source": [
    "def grad(model, inputs, targets):\n",
    "    with tf.GradientTape() as tape:\n",
    "        loss_value = loss(model, inputs, targets, training=True)\n",
    "    return loss_value, tape.gradient(loss_value, model.trainable_variables)"
   ]
  },
  {
   "cell_type": "markdown",
   "metadata": {},
   "source": [
    "Cream optimizorul ce ne va ajuta la reducerea functiei loss"
   ]
  },
  {
   "cell_type": "code",
   "execution_count": 70,
   "metadata": {},
   "outputs": [],
   "source": [
    "optimizer = tf.keras.optimizers.SGD(learning_rate=0.01)"
   ]
  },
  {
   "cell_type": "code",
   "execution_count": 71,
   "metadata": {},
   "outputs": [
    {
     "name": "stdout",
     "output_type": "stream",
     "text": [
      "Step: 0, Initial Loss: 2.391913890838623\n",
      "Step: 1,         Loss: 2.1724157333374023\n"
     ]
    }
   ],
   "source": [
    "# Testam pentru un singur pas\n",
    "loss_value, grads = grad(model, features, labels)\n",
    "\n",
    "print(\"Step: {}, Initial Loss: {}\".format(optimizer.iterations.numpy(),\n",
    "                                          loss_value.numpy()))\n",
    "\n",
    "optimizer.apply_gradients(zip(grads, model.trainable_variables))\n",
    "\n",
    "print(\"Step: {},         Loss: {}\".format(optimizer.iterations.numpy(),\n",
    "                                          loss(model, features, labels, training=True).numpy()))"
   ]
  },
  {
   "cell_type": "markdown",
   "metadata": {},
   "source": [
    "Pentru ca observam o imbunatatire a functiei loss, putem antrena modelul"
   ]
  },
  {
   "cell_type": "code",
   "execution_count": 72,
   "metadata": {},
   "outputs": [
    {
     "name": "stdout",
     "output_type": "stream",
     "text": [
      "Epoch 000: Loss: 1.255, Accuracy: 64.364%\n",
      "Epoch 050: Loss: 1.086, Accuracy: 66.229%\n",
      "Epoch 100: Loss: 1.079, Accuracy: 66.316%\n",
      "Epoch 150: Loss: 1.075, Accuracy: 66.254%\n",
      "Epoch 200: Loss: 1.072, Accuracy: 66.416%\n"
     ]
    }
   ],
   "source": [
    "# retinem rezultatele pentru vizualizarea grafica\n",
    "train_loss_results = []\n",
    "train_accuracy_results = []\n",
    "\n",
    "num_epochs = 201\n",
    "\n",
    "\n",
    "for epoch in range(num_epochs):\n",
    "    epoch_loss_avg = tf.keras.metrics.Mean()\n",
    "    epoch_accuracy = tf.keras.metrics.SparseCategoricalAccuracy()\n",
    "    \n",
    "# Antrenam modelul\n",
    "    for x, y in train_dataset:\n",
    "        # Optimizam modelul\n",
    "        loss_value, grads = grad(model, x, y)\n",
    "        optimizer.apply_gradients(zip(grads, model.trainable_variables))\n",
    "        \n",
    "        # Inregistram progresul\n",
    "        epoch_loss_avg.update_state(loss_value)\n",
    "        epoch_accuracy.update_state(y, model(x, training=True))\n",
    "\n",
    "    train_loss_results.append(epoch_loss_avg.result())\n",
    "    train_accuracy_results.append(epoch_accuracy.result())\n",
    "\n",
    "    if epoch % 50 == 0:\n",
    "        print(\"Epoch {:03d}: Loss: {:.3f}, Accuracy: {:.3%}\".format(epoch,\n",
    "                                                                epoch_loss_avg.result(),\n",
    "                                                                epoch_accuracy.result()))"
   ]
  },
  {
   "cell_type": "markdown",
   "metadata": {},
   "source": [
    "Vizualizam functia loss"
   ]
  },
  {
   "cell_type": "code",
   "execution_count": 73,
   "metadata": {},
   "outputs": [
    {
     "data": {
      "image/png": "[encoded data removed]",
      "text/plain": [
       "<Figure size 864x576 with 2 Axes>"
      ]
     },
     "metadata": {
      "needs_background": "light"
     },
     "output_type": "display_data"
    }
   ],
   "source": [
    "fig, axes = plt.subplots(2, sharex=True, figsize=(12, 8))\n",
    "fig.suptitle('Training Metrics')\n",
    "\n",
    "axes[0].set_ylabel(\"Loss\", fontsize=14)\n",
    "axes[0].plot(train_loss_results)\n",
    "\n",
    "axes[1].set_ylabel(\"Accuracy\", fontsize=14)\n",
    "axes[1].set_xlabel(\"Epoch\", fontsize=14)\n",
    "axes[1].plot(train_accuracy_results)\n",
    "plt.show()"
   ]
  },
  {
   "cell_type": "markdown",
   "metadata": {},
   "source": [
    "Pregatim setul de date de test"
   ]
  },
  {
   "cell_type": "code",
   "execution_count": 74,
   "metadata": {},
   "outputs": [
    {
     "data": {
      "text/plain": [
       "<PrefetchDataset shapes: (OrderedDict([(Gender, (None,)), (Married, (None,)), (Graduated, (None,)), (Work_Experience, (None,)), (Spending_Score, (None,)), (Family_Size, (None,)), (Age_Bin, (None,)), (Profession_cat, (None,))]), (None,)), types: (OrderedDict([(Gender, tf.int32), (Married, tf.int32), (Graduated, tf.int32), (Work_Experience, tf.int32), (Spending_Score, tf.int32), (Family_Size, tf.int32), (Age_Bin, tf.int32), (Profession_cat, tf.int32)]), tf.int32)>"
      ]
     },
     "execution_count": 74,
     "metadata": {},
     "output_type": "execute_result"
    }
   ],
   "source": [
    "test_dataset = tf.data.experimental.make_csv_dataset(\n",
    "    'Testing.csv',\n",
    "    batch_size=64,\n",
    "    column_names=column_names,\n",
    "    column_defaults = ['int32', 'int32', 'int32', 'int32', 'int32', 'int32', 'int32', 'int32','int32'],\n",
    "    label_name='Package',\n",
    "    num_epochs=1,\n",
    "    shuffle=False)\n",
    "\n",
    "test_dataset"
   ]
  },
  {
   "cell_type": "code",
   "execution_count": 75,
   "metadata": {},
   "outputs": [],
   "source": [
    "test_dataset = test_dataset.map(pack_features_vector)"
   ]
  },
  {
   "cell_type": "markdown",
   "metadata": {},
   "source": [
    "Evaluam modelul"
   ]
  },
  {
   "cell_type": "code",
   "execution_count": 76,
   "metadata": {},
   "outputs": [
    {
     "name": "stdout",
     "output_type": "stream",
     "text": [
      "Accuracy test: 65.742%\n"
     ]
    }
   ],
   "source": [
    "test_accuracy = tf.keras.metrics.Accuracy()\n",
    "\n",
    "for (x, y) in test_dataset:\n",
    "    logits = model(x, training=False)\n",
    "    prediction = tf.argmax(logits, axis=1, output_type=tf.int32)\n",
    "    test_accuracy(prediction, y)\n",
    "\n",
    "print(\"Accuracy test: {:.3%}\".format(test_accuracy.result()))"
   ]
  },
  {
   "cell_type": "code",
   "execution_count": 77,
   "metadata": {},
   "outputs": [
    {
     "data": {
      "text/plain": [
       "<tf.Tensor: shape=(35, 2), dtype=int32, numpy=\n",
       "array([[6, 6],\n",
       "       [6, 6],\n",
       "       [6, 6],\n",
       "       [6, 6],\n",
       "       [6, 6],\n",
       "       [6, 6],\n",
       "       [6, 6],\n",
       "       [6, 6],\n",
       "       [6, 6],\n",
       "       [6, 6],\n",
       "       [6, 6],\n",
       "       [6, 6],\n",
       "       [6, 6],\n",
       "       [6, 6],\n",
       "       [6, 6],\n",
       "       [6, 6],\n",
       "       [6, 6],\n",
       "       [1, 6],\n",
       "       [2, 2],\n",
       "       [6, 6],\n",
       "       [6, 6],\n",
       "       [6, 6],\n",
       "       [6, 6],\n",
       "       [6, 6],\n",
       "       [2, 6],\n",
       "       [2, 6],\n",
       "       [6, 6],\n",
       "       [6, 6],\n",
       "       [4, 6],\n",
       "       [6, 6],\n",
       "       [6, 6],\n",
       "       [6, 6],\n",
       "       [6, 6],\n",
       "       [4, 6],\n",
       "       [7, 6]])>"
      ]
     },
     "execution_count": 77,
     "metadata": {},
     "output_type": "execute_result"
    }
   ],
   "source": [
    "tf.stack([y,prediction],axis=1)"
   ]
  },
  {
   "cell_type": "markdown",
   "metadata": {},
   "source": [
    "Desi modelul nu este unul ideal, el ne ajuta sa prezicem alegerile facute de 2/3 clienti. Astfel, caracteristicile sociale ale acestora ar putea ajuta la alegerea pechetelor de vacanta ce merita sa fie introduse pe noua piata, sau nu, cu o probabilitate de aproximativ 65%."
   ]
  }
 ],
 "metadata": {
  "kernelspec": {
   "display_name": "Python 3",
   "language": "python",
   "name": "python3"
  },
  "language_info": {
   "codemirror_mode": {
    "name": "ipython",
    "version": 3
   },
   "file_extension": ".py",
   "mimetype": "text/x-python",
   "name": "python",
   "nbconvert_exporter": "python",
   "pygments_lexer": "ipython3",
   "version": "3.8.5"
  }
 },
 "nbformat": 4,
 "nbformat_minor": 4
}
